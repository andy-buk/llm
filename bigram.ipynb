{
 "cells": [
  {
   "cell_type": "code",
   "execution_count": 52,
   "metadata": {},
   "outputs": [
    {
     "name": "stdout",
     "output_type": "stream",
     "text": [
      "cpu\n"
     ]
    }
   ],
   "source": [
    "import torch\n",
    "import torch.nn as nn\n",
    "import torch.nn.functional as F\n",
    "device = 'cuda' if torch.cuda.is_available() else 'cpu'\n",
    "print(device)\n",
    "block_size = 8\n",
    "batch_size = 4"
   ]
  },
  {
   "cell_type": "code",
   "execution_count": 53,
   "metadata": {},
   "outputs": [
    {
     "name": "stdout",
     "output_type": "stream",
     "text": [
      "['\\n', ' ', '!', '\"', '&', \"'\", '(', ')', '*', ',', '-', '.', '0', '1', '2', '3', '4', '5', '6', '7', '8', '9', ':', ';', '?', 'A', 'B', 'C', 'D', 'E', 'F', 'G', 'H', 'I', 'J', 'K', 'L', 'M', 'N', 'O', 'P', 'Q', 'R', 'S', 'T', 'U', 'V', 'W', 'X', 'Y', 'Z', '[', ']', '_', 'a', 'b', 'c', 'd', 'e', 'f', 'g', 'h', 'i', 'j', 'k', 'l', 'm', 'n', 'o', 'p', 'q', 'r', 's', 't', 'u', 'v', 'w', 'x', 'y', 'z', '\\ufeff']\n"
     ]
    }
   ],
   "source": [
    "\"\"\"\n",
    "read in our data file, get the unique set of characters that we see\n",
    "\"\"\"\n",
    "\n",
    "with open('wizard_of_oz.txt', 'r', encoding='utf-8')as f:\n",
    "    text = f.read()\n",
    "chars = sorted(set(text))\n",
    "print(chars)\n",
    "vocab_size = len(chars)"
   ]
  },
  {
   "cell_type": "code",
   "execution_count": 54,
   "metadata": {},
   "outputs": [],
   "source": [
    "\"\"\"\n",
    "character based tokenization \n",
    "encoding and decoding (create a mapping from char to int)\n",
    "tensor -> multidimensional array \n",
    "set to torch.long (64-bit integer) for later\n",
    "\"\"\"\n",
    "\n",
    "string_to_int = { ch:i for i,ch in enumerate(chars) }\n",
    "int_to_string = { i:ch for i,ch in enumerate(chars) }\n",
    "encode = lambda s: [string_to_int[c] for c in s]\n",
    "decode = lambda l: ''.join([int_to_string[i] for i in l])\n",
    "\n",
    "data = torch.tensor(encode(text), dtype=torch.long)"
   ]
  },
  {
   "cell_type": "code",
   "execution_count": 55,
   "metadata": {},
   "outputs": [
    {
     "name": "stdout",
     "output_type": "stream",
     "text": [
      "tensor([80, 44, 61, 58,  1, 40, 71, 68, 63, 58, 56, 73,  1, 31, 74, 73, 58, 67,\n",
      "        55, 58, 71, 60,  1, 58, 26, 68, 68, 64,  1, 68, 59,  1, 28, 68, 71, 68,\n",
      "        73, 61, 78,  1, 54, 67, 57,  1, 73, 61, 58,  1, 47, 62, 79, 54, 71, 57,\n",
      "         1, 62, 67,  1, 39, 79,  0,  0, 44, 62, 73, 65, 58, 22,  1, 28, 68, 71,\n",
      "        68, 73, 61, 78,  1, 54, 67, 57,  1, 73, 61, 58,  1, 47, 62, 79, 54, 71,\n",
      "        57,  1, 62, 67,  1, 39, 79,  0,  0, 25])\n"
     ]
    }
   ],
   "source": [
    "print(data[:100])"
   ]
  },
  {
   "cell_type": "code",
   "execution_count": 56,
   "metadata": {},
   "outputs": [
    {
     "name": "stdout",
     "output_type": "stream",
     "text": [
      "tensor([107837,  44238,  89562,  70893])\n",
      "inputs:\n",
      "tensor([[54, 74, 72, 58,  1, 73, 61, 58],\n",
      "        [56, 58,  1, 76, 61, 58, 71, 58],\n",
      "        [54, 67, 57,  1, 56, 61, 62, 65],\n",
      "        [28,  1, 44, 32, 29,  1, 47, 33]])\n",
      "targets:\n",
      "tensor([[74, 72, 58,  1, 73, 61, 58, 78],\n",
      "        [58,  1, 76, 61, 58, 71, 58,  1],\n",
      "        [67, 57,  1, 56, 61, 62, 65, 57],\n",
      "        [ 1, 44, 32, 29,  1, 47, 33, 50]])\n"
     ]
    }
   ],
   "source": [
    "\"\"\"\n",
    "split into training/validation datasets\n",
    "\"\"\"\n",
    "n = int(0.8 * len(data))\n",
    "train_data = data[:n]\n",
    "val_data = data[n:]\n",
    "\n",
    "def get_batch(split='train'):\n",
    "    data = train_data if split == 'train' else val_data\n",
    "    ix = torch.randint(len(data) - block_size, (batch_size,))\n",
    "    print(ix)\n",
    "    x = torch.stack([data[i:i+block_size] for i in ix])\n",
    "    y = torch.stack([data[i+1:i+block_size+1] for i in ix])\n",
    "    x, y = x.to(device), y.to(device)\n",
    "    return x, y\n",
    "\n",
    "x, y = get_batch('train')\n",
    "print('inputs:')\n",
    "print(x)\n",
    "print('targets:')\n",
    "print(y)"
   ]
  },
  {
   "cell_type": "code",
   "execution_count": null,
   "metadata": {},
   "outputs": [],
   "source": [
    "class BigramLanguageModel(nn.Module):\n",
    "    def __init__(self, vocab_size):\n",
    "        super().__init__()\n",
    "        self.token_embedding_table = nn.Embedding(vocab_size, vocab_size)\n",
    "    \n",
    "    def forward(self, index, targets):\n",
    "        logits = self.token_embedding_table(index)\n",
    "        return logits"
   ]
  },
  {
   "cell_type": "code",
   "execution_count": null,
   "metadata": {},
   "outputs": [],
   "source": []
  }
 ],
 "metadata": {
  "kernelspec": {
   "display_name": "Python 3",
   "language": "python",
   "name": "python3"
  },
  "language_info": {
   "codemirror_mode": {
    "name": "ipython",
    "version": 3
   },
   "file_extension": ".py",
   "mimetype": "text/x-python",
   "name": "python",
   "nbconvert_exporter": "python",
   "pygments_lexer": "ipython3",
   "version": "3.12.7"
  }
 },
 "nbformat": 4,
 "nbformat_minor": 4
}
