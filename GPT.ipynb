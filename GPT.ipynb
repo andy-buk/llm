{
 "cells": [
  {
   "cell_type": "code",
   "execution_count": null,
   "metadata": {},
   "outputs": [],
   "source": [
    "import os\n",
    "import torch\n",
    "import torch.nn as nn\n",
    "from torch.nn import functional as F\n",
    "from datasets import load_dataset\n",
    "import matplotlib.pyplot as plt\n",
    "import seaborn as sns\n",
    "\n",
    "import warnings\n",
    "warnings.filterwarnings(\"ignore\")"
   ]
  },
  {
   "cell_type": "code",
   "execution_count": 19,
   "metadata": {},
   "outputs": [
    {
     "name": "stdout",
     "output_type": "stream",
     "text": [
      "cuda\n"
     ]
    }
   ],
   "source": [
    "# check for GPU for faster computation\n",
    "device = 'cuda' if torch.cuda.is_available() else 'cpu'\n",
    "print(device)"
   ]
  },
  {
   "cell_type": "code",
   "execution_count": null,
   "metadata": {},
   "outputs": [],
   "source": [
    "batch_size = 64         # number of samples to process in parallel\n",
    "block_size = 256        # context window size\n",
    "max_iters = 5000        # number of training iterations\n",
    "eval_interval = 500     # number of iterations between evaluations\n",
    "learning_rate = 3e-4    # learning rate for the optimizer\n",
    "eval_iters = 200        # number of iterations to evaluate the model\n",
    "n_embd = 128            # number of embeddings\n",
    "n_head = 6              # number of attention heads\n",
    "n_layer = 3             # number of transformer layers\n",
    "dropout = 0.2           # dropout rate"
   ]
  },
  {
   "cell_type": "code",
   "execution_count": 21,
   "metadata": {},
   "outputs": [
    {
     "data": {
      "application/vnd.jupyter.widget-view+json": {
       "model_id": "243c0550d7fc4086b9d2dae6160057df",
       "version_major": 2,
       "version_minor": 0
      },
      "text/plain": [
       "Loading dataset shards:   0%|          | 0/41 [00:00<?, ?it/s]"
      ]
     },
     "metadata": {},
     "output_type": "display_data"
    },
    {
     "name": "stdout",
     "output_type": "stream",
     "text": [
      "\n",
      " !\"#$%&'()*+,-./0123456789:;=?ABCDEFGHIJKLMNOPQRSTUVWXYZ[]_abcdefghijklmnopqrstuvwxyz{|}~ £µ·½ÉÖáâã\n",
      "165\n"
     ]
    }
   ],
   "source": [
    "dataset = load_dataset('wikipedia', '20220301.en', split='train', trust_remote_code=True)\n",
    "subset = dataset.shuffle().select(range(100))\n",
    "\n",
    "text = ' '.join(subset['text'])\n",
    "chars = ''.join(sorted(set(text)))\n",
    "print(chars[:100])\n",
    "\n",
    "vocab_size = len(chars)\n",
    "print(vocab_size)"
   ]
  },
  {
   "cell_type": "code",
   "execution_count": 54,
   "metadata": {},
   "outputs": [
    {
     "data": {
      "text/plain": [
       "(6458670, 4)"
      ]
     },
     "execution_count": 54,
     "metadata": {},
     "output_type": "execute_result"
    }
   ],
   "source": [
    "dataset.shape"
   ]
  },
  {
   "cell_type": "code",
   "execution_count": 22,
   "metadata": {},
   "outputs": [
    {
     "name": "stdout",
     "output_type": "stream",
     "text": [
      "tensor([49, 60, 77,  ..., 73, 79, 78])\n"
     ]
    }
   ],
   "source": [
    "stoi = { ch:i for i, ch in enumerate(chars) }     # mapping: string -> int\n",
    "itos = { i:ch for i, ch in enumerate(chars) }     # mapping: int -> string\n",
    "encode = lambda s: [stoi[c] for c in s]           # convert string to list of integers\n",
    "decode = lambda l: ''.join([itos[i] for i in l])  # convert list of integers to string\n",
    "\n",
    "data = torch.tensor(encode(text), dtype=torch.long)\n",
    "print(data)"
   ]
  },
  {
   "cell_type": "code",
   "execution_count": 23,
   "metadata": {},
   "outputs": [],
   "source": [
    "# split the data into training (80%) and validation (20%)\n",
    "n = int(0.8 * len(data))\n",
    "train_data = data[:n]\n",
    "val_data = data[n:]"
   ]
  },
  {
   "cell_type": "code",
   "execution_count": 24,
   "metadata": {},
   "outputs": [],
   "source": [
    "def get_batch(split='train'):\n",
    "    \"\"\"\n",
    "    Get a random batch of data from the training or validation set.\n",
    "    \"\"\"\n",
    "    data = train_data if split == 'train' else val_data\n",
    "    starting_indices = torch.randint(len(data) - block_size, (batch_size, 1)) # (batch_size, 1)\n",
    "    x = torch.stack([data[i:i+block_size] for i in starting_indices]) # (batch_size, block_size)\n",
    "    y = torch.stack([data[i+1:i+block_size+1] for i in starting_indices]) # (batch_size, block_size)\n",
    "    x, y = x.to(device), y.to(device)\n",
    "    return x, y"
   ]
  },
  {
   "cell_type": "code",
   "execution_count": 25,
   "metadata": {},
   "outputs": [],
   "source": [
    "@torch.no_grad() # disable gradient computation because we are only evaluating\n",
    "def estimate_loss(model):\n",
    "    \"\"\"\n",
    "    Estimate the loss of the model on the training and validation sets.\n",
    "    \"\"\"\n",
    "    out = {}\n",
    "    model.eval() # set the model to evaluation mode\n",
    "    for split in ['train', 'val']:\n",
    "        losses = torch.zeros(eval_iters) # store the loss for each iteration\n",
    "        for k in range(eval_iters):\n",
    "            X, Y = get_batch(split) # get random batch\n",
    "            logits, loss = model.forward(X, Y) # pass through the neural network and return loss\n",
    "            losses[k] = loss.item() # store the loss\n",
    "        out[split] = losses.mean()\n",
    "    model.train() # set the model back to training mode\n",
    "    return out # {'train': train_loss, 'val': val_loss}"
   ]
  },
  {
   "cell_type": "code",
   "execution_count": 26,
   "metadata": {},
   "outputs": [],
   "source": [
    "class Head(nn.Module):\n",
    "    \"\"\"\n",
    "    A single attention head.\n",
    "    \"\"\"\n",
    "\n",
    "    def __init__(self, head_size):\n",
    "        super().__init__()\n",
    "        self.key = nn.Linear(n_embd, head_size, bias=False) # key projection\n",
    "        self.query = nn.Linear(n_embd, head_size, bias=False) # query projection\n",
    "        self.value = nn.Linear(n_embd, head_size, bias=False) # value projection\n",
    "        self.register_buffer('tril', torch.tril(torch.ones(block_size, block_size))) \n",
    "        self.dropout = nn.Dropout(dropout)\n",
    "\n",
    "    def forward(self, x):\n",
    "        \"\"\"\n",
    "        B: batch size, T: block size, C: channels, H: head size\n",
    "        x: (B, T, C)\n",
    "        Scaled dot-product attention.\n",
    "        \"\"\"\n",
    "\n",
    "        B, T, C = x.shape\n",
    "        k = self.key(x) # (B, T, H)\n",
    "        q = self.query(x) # (B, T, H)\n",
    "\n",
    "        wei = q @ k.transpose(-2,-1) * k.shape[-1]**(-0.5) # (B, T, H) @ (B, H, T) = (B, T, T)\n",
    "        wei = wei.masked_fill(self.tril[:T, :T] == 0, float('-inf')) # (B, T, T)\n",
    "        wei = F.softmax(wei, dim=-1) # (B, T, T)\n",
    "        wei = self.dropout(wei)\n",
    "\n",
    "        v = self.value(x) # (B, T, H)\n",
    "        out = wei @ v # (B, T, T) @ (B, T, H) = (B, T, H)\n",
    "        return out"
   ]
  },
  {
   "cell_type": "code",
   "execution_count": 27,
   "metadata": {},
   "outputs": [],
   "source": [
    "class MultiHeadAttention(nn.Module):\n",
    "    \"\"\"\n",
    "    Multi-head self-attention layer.\n",
    "    \"\"\"\n",
    "\n",
    "    def __init__(self, num_heads, head_size):\n",
    "        super().__init__()\n",
    "        self.heads = nn.ModuleList([Head(head_size) for _ in range(num_heads)])\n",
    "        self.proj = nn.Linear(head_size * num_heads, n_embd)\n",
    "        self.dropout = nn.Dropout(dropout)\n",
    "\n",
    "    def forward(self, x):\n",
    "        out = torch.cat([h(x) for h in self.heads], dim=-1)\n",
    "        out = self.dropout(self.proj(out))\n",
    "        return out"
   ]
  },
  {
   "cell_type": "code",
   "execution_count": 28,
   "metadata": {},
   "outputs": [],
   "source": [
    "class FeedFoward(nn.Module):\n",
    "    \"\"\"\n",
    "    Feed-forward neural network with a single hidden layer.\n",
    "    \"\"\"\n",
    "\n",
    "    def __init__(self, n_embd):\n",
    "        super().__init__()\n",
    "        self.net = nn.Sequential(\n",
    "            nn.Linear(n_embd, 4 * n_embd),\n",
    "            nn.ReLU(),\n",
    "            nn.Linear(4 * n_embd, n_embd),\n",
    "            nn.Dropout(dropout),\n",
    "        )\n",
    "\n",
    "    def forward(self, x):\n",
    "        return self.net(x)"
   ]
  },
  {
   "cell_type": "code",
   "execution_count": 29,
   "metadata": {},
   "outputs": [],
   "source": [
    "class Block(nn.Module):\n",
    "    \"\"\"\n",
    "    A transformer block consists of a multi-head self-attention layer followed by a feed-forward layer\n",
    "    \"\"\"\n",
    "\n",
    "    def __init__(self, n_embd, n_head):\n",
    "        \"\"\"\n",
    "        n_embd: embedding dimension\n",
    "        n_head: number of attention heads\n",
    "        \"\"\"\n",
    "\n",
    "        super().__init__()\n",
    "        head_size = n_embd // n_head # determine the size of each head\n",
    "        self.sa = MultiHeadAttention(n_head, head_size)\n",
    "        self.ffwd = FeedFoward(n_embd)\n",
    "        self.ln1 = nn.LayerNorm(n_embd) # layer normalization\n",
    "        self.ln2 = nn.LayerNorm(n_embd) # layer normalization\n",
    "\n",
    "    def forward(self, x):\n",
    "        x = x + self.sa(self.ln1(x))\n",
    "        x = x + self.ffwd(self.ln2(x))\n",
    "        return x"
   ]
  },
  {
   "cell_type": "code",
   "execution_count": 50,
   "metadata": {},
   "outputs": [],
   "source": [
    "class LLM(nn.Module):\n",
    "    def __init__(self):\n",
    "        super().__init__()\n",
    "        # each token directly reads off the logits for the next token from a lookup table\n",
    "        self.token_embedding_table = nn.Embedding(vocab_size, n_embd)\n",
    "        self.position_embedding_table = nn.Embedding(block_size, n_embd)\n",
    "        self.blocks = nn.Sequential(*[Block(n_embd, n_head=n_head) for _ in range(n_layer)])\n",
    "        self.normalization = nn.LayerNorm(n_embd) # normalization layer\n",
    "        self.output = nn.Linear(n_embd, vocab_size) # output layer\n",
    "\n",
    "        self.apply(self._init_weights) # initialize the weights on each layer\n",
    "\n",
    "    def _init_weights(self, module):\n",
    "        if isinstance(module, nn.Linear): # if linear layer\n",
    "            torch.nn.init.normal_(module.weight, mean=0.0, std=0.02) # set the weights to have a normal distribution\n",
    "            if module.bias is not None:\n",
    "                torch.nn.init.zeros_(module.bias) # set the bias to zero\n",
    "        elif isinstance(module, nn.Embedding): # if embedding layer\n",
    "            torch.nn.init.normal_(module.weight, mean=0.0, std=0.02) # set the weights to have a normal distribution\n",
    "\n",
    "    def forward(self, indices, targets=None):\n",
    "        \"\"\"\n",
    "        B: batch_size, T: block_size, C: n_embd\n",
    "        indices: (B, T) tensor of integers\n",
    "        targets: (B, T) tensor of integers\n",
    "        \"\"\"\n",
    "        \n",
    "        B, T = indices.shape\n",
    "        token_embedding = self.token_embedding_table(indices) # (B, T, C)\n",
    "        position_embedding = self.position_embedding_table(torch.arange(T, device=device)) # (T, C)\n",
    "        x = token_embedding + position_embedding # (B, T, C)\n",
    "        x = self.blocks(x) # (B, T, C)\n",
    "        x = self.normalization(x) # (B, T, C)\n",
    "        logits = self.output(x) # (B, T, vocab_size)\n",
    "\n",
    "        if targets is None:\n",
    "            loss = None\n",
    "        else:\n",
    "            B, T, C = logits.shape\n",
    "            logits = logits.view(B*T, C)\n",
    "            targets = targets.view(B*T)\n",
    "            loss = F.cross_entropy(logits, targets)\n",
    "\n",
    "        return logits, loss\n",
    "\n",
    "    def generate(self, indices, tokens=100):\n",
    "        \"\"\"\n",
    "        B: batch_size, T: block_size, C: n_embd\n",
    "        indices: (B, T) tensor of integers to start the generation from\n",
    "        tokens: number of tokens to generate\n",
    "        \"\"\"\n",
    "\n",
    "        for _ in range(tokens):\n",
    "            context_indices = indices[:, -block_size:] # (B, T) get the last block_size tokens\n",
    "            logits, loss = self.forward(context_indices) # get the logits and loss\n",
    "            logits = logits[:, -1, :] # (B, C) get the logits for the last token\n",
    "            probs = F.softmax(logits, dim=-1) # (B, C) convert logits to probabilities\n",
    "            idx_next = torch.multinomial(probs, num_samples=1) # (B, 1) sample from the distribution\n",
    "            indices = torch.cat((indices, idx_next), dim=1) # (B, T+1) append the new token\n",
    "        return indices\n",
    "\n",
    "model = LLM()\n",
    "m = model.to(device)"
   ]
  },
  {
   "cell_type": "code",
   "execution_count": 52,
   "metadata": {},
   "outputs": [
    {
     "name": "stdout",
     "output_type": "stream",
     "text": [
      "step 0: train loss 5.1026, val loss 5.1041\n",
      "step 500: train loss 2.5227, val loss 2.6283\n",
      "step 1000: train loss 1.9286, val loss 2.1898\n",
      "step 1500: train loss 1.6673, val loss 2.0358\n",
      "step 2000: train loss 1.5227, val loss 1.9905\n",
      "step 2500: train loss 1.4403, val loss 1.9576\n",
      "step 3000: train loss 1.3769, val loss 1.9762\n",
      "step 3500: train loss 1.3225, val loss 1.9679\n",
      "step 4000: train loss 1.2783, val loss 1.9731\n",
      "step 4500: train loss 1.2352, val loss 1.9583\n",
      "step 5000: train loss 1.2085, val loss 1.9625\n"
     ]
    }
   ],
   "source": [
    "optimizer = torch.optim.AdamW(model.parameters(), lr=learning_rate)\n",
    "\n",
    "val_loss = []\n",
    "\n",
    "for iter in range(max_iters+1):\n",
    "    if iter % eval_interval == 0:\n",
    "        losses = estimate_loss(model)\n",
    "        val_loss.append(losses['val'])\n",
    "        print(f\"step {iter}: train loss {losses['train']:.4f}, val loss {losses['val']:.4f}\")\n",
    "\n",
    "    xb, yb = get_batch('train') # get a random batch of data\n",
    "\n",
    "    logits, loss = model(xb, yb) # forward pass through the neural network, compute logits and loss\n",
    "    optimizer.zero_grad(set_to_none=True) # clear previous gradients\n",
    "    loss.backward() # backpropagate to compute gradients\n",
    "    optimizer.step() # update the model weights"
   ]
  },
  {
   "cell_type": "code",
   "execution_count": null,
   "metadata": {},
   "outputs": [
    {
     "data": {
      "image/png": "[encoded data removed]",
      "text/plain": [
       "<Figure size 1000x600 with 1 Axes>"
      ]
     },
     "metadata": {},
     "output_type": "display_data"
    }
   ],
   "source": [
    "sns.set(style=\"whitegrid\")\n",
    "\n",
    "plt.figure(figsize=(10, 6))\n",
    "plt.plot(range(0, max_iters + 1, eval_interval), val_loss, label='Validation Loss', color='b', linewidth=2)\n",
    "\n",
    "plt.xlabel('iteration', fontsize=12)\n",
    "plt.ylabel('loss', fontsize=12)\n",
    "plt.title('validation loss', fontsize=14)\n",
    "plt.legend()\n",
    "plt.show()\n"
   ]
  },
  {
   "cell_type": "code",
   "execution_count": 96,
   "metadata": {},
   "outputs": [
    {
     "name": "stdout",
     "output_type": "stream",
     "text": [
      "\n",
      "The conspition Jeb Volebourne either eventtumic for even asilents.\n",
      "\n",
      "At urporsed slabeit wining, family the populater yime-of thir on-levolving arous commeratizal. It the first apported as the roadys (\n"
     ]
    }
   ],
   "source": [
    "context = torch.zeros((1, 1), dtype=torch.long, device=device) # initialize context\n",
    "print(decode(m.generate(context, tokens=200)[0].tolist())) # generate text"
   ]
  }
 ],
 "metadata": {
  "kernelspec": {
   "display_name": "cuda",
   "language": "python",
   "name": "python3"
  },
  "language_info": {
   "codemirror_mode": {
    "name": "ipython",
    "version": 3
   },
   "file_extension": ".py",
   "mimetype": "text/x-python",
   "name": "python",
   "nbconvert_exporter": "python",
   "pygments_lexer": "ipython3",
   "version": "3.12.2"
  }
 },
 "nbformat": 4,
 "nbformat_minor": 2
}
